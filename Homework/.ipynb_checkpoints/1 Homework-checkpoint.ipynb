{
 "cells": [
  {
   "cell_type": "markdown",
   "id": "47a39a75",
   "metadata": {},
   "source": [
    "# Introduction to Probabilisitic Methods Exercises\n",
    "\n",
    "**2025 Introduction to Quantiative Methods in Finance**\n",
    "\n",
    "**The Erdös Institute**\n",
    "\n",
    "\n",
    "These are exercises for practice, not to be submitted."
   ]
  },
  {
   "cell_type": "markdown",
   "id": "5b51a791",
   "metadata": {},
   "source": [
    "## Exercise 1 ## \n",
    "\n",
    "Design and code a probabilistic method to estimate $\\pi\\sim 3.14$."
   ]
  },
  {
   "cell_type": "code",
   "execution_count": 1,
   "id": "71f23e93",
   "metadata": {},
   "outputs": [],
   "source": [
    "#import numpy and pyplot\n",
    "\n",
    "import numpy as np\n",
    "import matplotlib.pyplot as plt\n",
    "import random\n",
    "random.seed(49)"
   ]
  },
  {
   "cell_type": "code",
   "execution_count": 2,
   "id": "bdc01ad1-7bb8-41fa-87b3-0904869b8c4e",
   "metadata": {},
   "outputs": [
    {
     "data": {
      "image/png": "[encoded data removed]",
      "text/plain": [
       "<Figure size 640x480 with 1 Axes>"
      ]
     },
     "metadata": {},
     "output_type": "display_data"
    },
    {
     "name": "stdout",
     "output_type": "stream",
     "text": [
      "Mean is 3.1422768000000003 standard deviation is 0.016160302650631272.\n",
      "Estimated value of pi is 3.1422768000000003.\n"
     ]
    }
   ],
   "source": [
    "def dist(w):\n",
    "    return np.sqrt(pow(w[0],2) + pow(w[1],2))\n",
    "\n",
    "N = 10000\n",
    "M = 1000\n",
    "xy_min = [0, 0]\n",
    "xy_max = [1, 1]\n",
    "pi_estimate = np.zeros(M)\n",
    "for j in range(M):\n",
    "    p = np.random.uniform(low = xy_min, high = xy_max, size = (N,2))\n",
    "    inside = [i for i in range(N) if dist(p[i,:])<=1]\n",
    "    pi_estimate[j] = 4*len(inside)/N\n",
    "\n",
    "mu = np.mean(pi_estimate)\n",
    "sigma = np.std(pi_estimate)\n",
    "\n",
    "plt.hist(pi_estimate, bins = 50)\n",
    "plt.title(f'Histogram of pi estimates')\n",
    "plt.show()\n",
    "\n",
    "print(f'Mean is {mu} standard deviation is {sigma}.')\n",
    "print(f'Estimated value of pi is {mu}.')"
   ]
  },
  {
   "cell_type": "code",
   "execution_count": 3,
   "id": "616ce7cf-ce12-48a4-915d-fa03170cf5b3",
   "metadata": {},
   "outputs": [
    {
     "name": "stdout",
     "output_type": "stream",
     "text": [
      "Estimated value of pi by numpy 3.141592653589793.\n"
     ]
    }
   ],
   "source": [
    "print(f'Estimated value of pi by numpy {np.pi}.')"
   ]
  },
  {
   "cell_type": "markdown",
   "id": "5951397b",
   "metadata": {},
   "source": [
    "## Exercise 2 ## \n",
    "\n",
    "###  Rules of Craps (Vegas Casino Style)\n",
    "\n",
    " \n",
    "The basic rules are outlined below and a several common betting options are given.\n",
    "\n",
    "### 1. The Come-Out Roll\n",
    " - The game begins with the shooter making a \"come-out\" roll using two six-sided dice.\n",
    " - If the come-out roll is a **7 or 11**, the pass line bet wins (called a \"natural\").\n",
    " - If the come-out roll is **2, 3, or 12**, the pass line bet loses (called \"craps\").\n",
    " - If the come-out roll is **4, 5, 6, 8, 9, or 10**, that number becomes the **point**.\n",
    "\n",
    "### 2. Point Phase\n",
    " - Once the point is established, the shooter continues rolling.\n",
    " - The goal is to roll the **point number again before rolling a 7**.\n",
    "     - If the shooter rolls the point again, pass line bets win.\n",
    "     - If the shooter rolls a **7 before the point**, pass line bets lose (called \"seven out\").\n",
    "\n",
    "### 3. Some Betting Options\n",
    " - **Pass Line Bet**: Wins on a natural (7 or 11), loses on craps (2, 3, 12), wins if point is hit before a 7.\n",
    " - **Don't Pass Bet**: Opposite of pass line. Wins on craps (2, 3), ties on 12, loses on 7 or 11.\n",
    "\n",
    " \n",
    " \n",
    " ### Part 1\n",
    " Determine the odds of winning at craps for the Pass Line Bet and Don't Pass Bet.\n",
    " \n",
    " ### Part 2\n",
    " Use probabilistic/Monte-Carlo methods for estimating the odds of winning the Pass Line and Don't Pass Line Bets."
   ]
  },
  {
   "cell_type": "code",
   "execution_count": null,
   "id": "39854ac6",
   "metadata": {},
   "outputs": [],
   "source": []
  },
  {
   "cell_type": "code",
   "execution_count": null,
   "id": "03d392fe",
   "metadata": {},
   "outputs": [],
   "source": []
  },
  {
   "cell_type": "markdown",
   "id": "8bc1f363",
   "metadata": {},
   "source": [
    "## Exercise 3 ##\n",
    "\n",
    "Ten cards labeled 1 through 10 are shuffled. What is the probability that one of the ten cards was shuffled to its original location?\n",
    "\n",
    "Find the true expectation and try using a probabilistic method to estimate the answer."
   ]
  },
  {
   "cell_type": "code",
   "execution_count": null,
   "id": "2502eb3e",
   "metadata": {},
   "outputs": [],
   "source": []
  },
  {
   "cell_type": "code",
   "execution_count": null,
   "id": "e0c3876b",
   "metadata": {},
   "outputs": [],
   "source": []
  },
  {
   "cell_type": "code",
   "execution_count": null,
   "id": "e152f890",
   "metadata": {},
   "outputs": [],
   "source": []
  },
  {
   "cell_type": "code",
   "execution_count": null,
   "id": "4a09fce2",
   "metadata": {},
   "outputs": [],
   "source": []
  },
  {
   "cell_type": "markdown",
   "id": "9a25d6ed",
   "metadata": {},
   "source": [
    "## Exercise 4\n",
    "\n",
    "You approach two slot machines. Each machine costs $\\$.050$ to play and pays out $\\$1$ for a win. You do not know the exact probability of winning on either machine, but you are told that **one has a 2/5 chance of winning**, and the **other has a 3/5 chance of winning**. You do not know which machine has which probability.\n",
    "\n",
    "Your goal is to use probabilistic methods to compare two strategies over a total of 100 plays, to see which strategy is more profitable on average. A more profitable strategy is one that tends to allocate more plays to the machine with the higher payout probability.\n",
    "\n",
    "### Strategies to Simulate\n",
    "\n",
    "1. **Loss-Switch Strategy:**  \n",
    "   Select a slot machine at random. Play on that machine until you lose, then switch to the other machine. Repeat this process for 100 plays.\n",
    "\n",
    "2. **Exploration-Exploitation Strategy:**  \n",
    "   Start by playing each machine 10 times. Estimate the win rate for each machine based on these initial plays. Then:\n",
    "   - Continue playing the machine with the higher observed win rate.\n",
    "   - After each play, update the estimated win rate.\n",
    "   - If the other machine’s estimated win rate becomes higher, switch to it.\n",
    "   - Repeat until 100 total plays have been made.\n",
    "\n",
    "---\n",
    "\n",
    "**Note:**  \n",
    "While this is a simplified, hypothetical scenario, it mirrors real-world decision-making under uncertainty. For instance, in finance, a trader might have multiple strategies available for a given asset. The decision of which strategy to follow at a given time can be based on adaptive rules informed by past performance, similar in spirit to the strategies explored here."
   ]
  },
  {
   "cell_type": "code",
   "execution_count": null,
   "id": "eee24c7a-aaf0-427c-9542-39dabb927db2",
   "metadata": {},
   "outputs": [],
   "source": []
  }
 ],
 "metadata": {
  "kernelspec": {
   "display_name": "Python 3 (ipykernel)",
   "language": "python",
   "name": "python3"
  },
  "language_info": {
   "codemirror_mode": {
    "name": "ipython",
    "version": 3
   },
   "file_extension": ".py",
   "mimetype": "text/x-python",
   "name": "python",
   "nbconvert_exporter": "python",
   "pygments_lexer": "ipython3",
   "version": "3.10.12"
  }
 },
 "nbformat": 4,
 "nbformat_minor": 5
}
